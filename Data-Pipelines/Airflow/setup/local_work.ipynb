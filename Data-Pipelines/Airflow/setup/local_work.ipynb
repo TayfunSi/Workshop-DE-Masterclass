{
 "cells": [
  {
   "cell_type": "markdown",
   "id": "6d01f696",
   "metadata": {},
   "source": [
    "Schritt 1: Repository clonen\n",
    "\n",
    "git clone https://github.com/TayfunSi/Workshop-DE-Masterclass.git\n",
    "cd Workshop-DE-Masterclass"
   ]
  },
  {
   "cell_type": "markdown",
   "id": "5e72e225",
   "metadata": {},
   "source": [
    "Schritt 2: Virtuelle Umgebung anlegen und aktivieren\n",
    "\n",
    "python3 -m venv venv\n",
    "source venv/bin/activate  # macOS/Linux\n",
    "venv\\Scripts\\activate.bat # Windows CMD\n",
    "venv\\Scripts\\Activate.ps1 # Windows PowerShell"
   ]
  },
  {
   "cell_type": "markdown",
   "id": "eb2b3d54",
   "metadata": {},
   "source": [
    "Schritt 3: Abhängigkeiten installieren\n",
    "\n",
    "pip install --upgrade pip\n",
    "pip install apache-airflow pandas"
   ]
  },
  {
   "cell_type": "markdown",
   "id": "990d37ab",
   "metadata": {},
   "source": [
    "Schritt 4: Projektstruktur\n",
    "\n",
    "Workshop-DE-Masterclass/\n",
    "├── Data-Pipelines/\n",
    "│   └── Airflow/\n",
    "│       ├── dags/\n",
    "│       │   ├── case1_copy-from-A-to-B-manually.py\n",
    "│       │   ├── utils.py\n",
    "│       └── data/\n",
    "│           ├── raw/\n",
    "│           └── processed/"
   ]
  },
  {
   "cell_type": "markdown",
   "id": "f6774d08",
   "metadata": {},
   "source": [
    "Schritt 5: Airflow initialisieren\n",
    "\n",
    "export AIRFLOW_HOME=$(pwd)/.airflow\n",
    "airflow db init"
   ]
  },
  {
   "cell_type": "markdown",
   "id": "caf90405",
   "metadata": {},
   "source": [
    "Schritt 6: Benutzer anlegen\n",
    "\n",
    "airflow users create \\\n",
    "  --username admin \\\n",
    "  --password admin \\\n",
    "  --firstname Vorname \\\n",
    "  --lastname Nachname \\\n",
    "  --role Admin \\\n",
    "  --email admin@example.com"
   ]
  },
  {
   "cell_type": "markdown",
   "id": "39e07757",
   "metadata": {},
   "source": [
    "Schritt 7: Beispiel DAGs deaktivieren\n",
    "\n",
    "export AIRFLOW__CORE__LOAD_EXAMPLES=False\n",
    "export AIRFLOW__CORE__DAGS_FOLDER=~/Workshop-DE-Masterclass/Data-Pipelines/Airflow/dags"
   ]
  },
  {
   "cell_type": "markdown",
   "id": "83cd4cbe",
   "metadata": {},
   "source": [
    "Schritt 8: Airflow starten\n",
    "\n",
    "Terminal 1:\n",
    "airflow scheduler\n",
    "\n",
    "Terminal 2:\n",
    "airflow webserver --port 8080\n",
    "\n",
    "Gehe zu:\n",
    "http://localhost:8080\n",
    "\n",
    "Login: admin / admin"
   ]
  }
 ],
 "metadata": {
  "language_info": {
   "name": "python"
  }
 },
 "nbformat": 4,
 "nbformat_minor": 5
}
