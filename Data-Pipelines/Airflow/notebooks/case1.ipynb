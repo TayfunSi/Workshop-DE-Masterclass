{
 "cells": [
  {
   "cell_type": "code",
   "execution_count": 5,
   "id": "aa6b94ae",
   "metadata": {},
   "outputs": [
    {
     "name": "stdout",
     "output_type": "stream",
     "text": [
      "✅ Datei gefunden: /Users/tsimsek/Workshop-DE-Masterclass/Data-Pipelines/Airflow/data/raw/zones.csv\n"
     ]
    }
   ],
   "source": [
    "# CASE 1: Kopieren von A nach B – Manuell gesteuerter Airflow DAG\n",
    "# ===============================================================\n",
    "# Ziel: Die Datei `TaxiZone.csv` soll per Airflow-DAG von `data/raw/` nach `data/processed/` kopiert werden.\n",
    "\n",
    "# 📁 Ordnerstruktur vorausgesetzt:\n",
    "# └── data/\n",
    "#     ├── raw/zones.csv\n",
    "#     └── processed/ (leer)\n",
    "\n",
    "# Schritt 1 – Überprüfung: Ist die Quelldatei vorhanden?\n",
    "import os\n",
    "\n",
    "raw_path = \"/Users/tsimsek/Workshop-DE-Masterclass/Data-Pipelines/Airflow/data/raw/zones.csv\"\n",
    "assert os.path.exists(raw_path), f\"❌ Datei nicht gefunden: {raw_path}\"\n",
    "print(f\"✅ Datei gefunden: {raw_path}\")"
   ]
  },
  {
   "cell_type": "code",
   "execution_count": 6,
   "id": "5f10553a",
   "metadata": {},
   "outputs": [
    {
     "data": {
      "text/html": [
       "<div>\n",
       "<style scoped>\n",
       "    .dataframe tbody tr th:only-of-type {\n",
       "        vertical-align: middle;\n",
       "    }\n",
       "\n",
       "    .dataframe tbody tr th {\n",
       "        vertical-align: top;\n",
       "    }\n",
       "\n",
       "    .dataframe thead th {\n",
       "        text-align: right;\n",
       "    }\n",
       "</style>\n",
       "<table border=\"1\" class=\"dataframe\">\n",
       "  <thead>\n",
       "    <tr style=\"text-align: right;\">\n",
       "      <th></th>\n",
       "      <th>LocationID</th>\n",
       "      <th>Borough</th>\n",
       "      <th>Zone</th>\n",
       "      <th>service_zone</th>\n",
       "    </tr>\n",
       "  </thead>\n",
       "  <tbody>\n",
       "    <tr>\n",
       "      <th>0</th>\n",
       "      <td>1</td>\n",
       "      <td>EWR</td>\n",
       "      <td>Newark Airport</td>\n",
       "      <td>EWR</td>\n",
       "    </tr>\n",
       "    <tr>\n",
       "      <th>1</th>\n",
       "      <td>2</td>\n",
       "      <td>Queens</td>\n",
       "      <td>Jamaica Bay</td>\n",
       "      <td>Boro Zone</td>\n",
       "    </tr>\n",
       "    <tr>\n",
       "      <th>2</th>\n",
       "      <td>3</td>\n",
       "      <td>Bronx</td>\n",
       "      <td>Allerton/Pelham Gardens</td>\n",
       "      <td>Boro Zone</td>\n",
       "    </tr>\n",
       "    <tr>\n",
       "      <th>3</th>\n",
       "      <td>4</td>\n",
       "      <td>Manhattan</td>\n",
       "      <td>Alphabet City</td>\n",
       "      <td>Yellow Zone</td>\n",
       "    </tr>\n",
       "    <tr>\n",
       "      <th>4</th>\n",
       "      <td>5</td>\n",
       "      <td>Staten Island</td>\n",
       "      <td>Arden Heights</td>\n",
       "      <td>Boro Zone</td>\n",
       "    </tr>\n",
       "  </tbody>\n",
       "</table>\n",
       "</div>"
      ],
      "text/plain": [
       "   LocationID        Borough                     Zone service_zone\n",
       "0           1            EWR           Newark Airport          EWR\n",
       "1           2         Queens              Jamaica Bay    Boro Zone\n",
       "2           3          Bronx  Allerton/Pelham Gardens    Boro Zone\n",
       "3           4      Manhattan            Alphabet City  Yellow Zone\n",
       "4           5  Staten Island            Arden Heights    Boro Zone"
      ]
     },
     "execution_count": 6,
     "metadata": {},
     "output_type": "execute_result"
    }
   ],
   "source": [
    "# Schritt 2 – Manuelles Laden der Quelldaten\n",
    "import pandas as pd\n",
    "\n",
    "df = pd.read_csv(raw_path)\n",
    "df.head()"
   ]
  },
  {
   "cell_type": "code",
   "execution_count": 10,
   "id": "b143bfde",
   "metadata": {},
   "outputs": [
    {
     "name": "stdout",
     "output_type": "stream",
     "text": [
      "✅ Datei kopiert nach: /Users/tsimsek/Workshop-DE-Masterclass/Data-Pipelines/Airflow/data/processed/zones_copied.csv\n"
     ]
    }
   ],
   "source": [
    "# Schritt 3 – Zielpfad definieren und schreiben\n",
    "processed_dir = \"/Users/tsimsek/Workshop-DE-Masterclass/Data-Pipelines/Airflow/data/processed/\"\n",
    "processed_file = os.path.join(processed_dir, \"zones_copied.csv\")\n",
    "os.makedirs(processed_dir, exist_ok=True)\n",
    "\n",
    "df.to_csv(processed_file, index=False)\n",
    "print(f\"✅ Datei kopiert nach: {processed_file}\")"
   ]
  },
  {
   "cell_type": "code",
   "execution_count": 11,
   "id": "2ab06b1b",
   "metadata": {},
   "outputs": [
    {
     "data": {
      "text/html": [
       "<div>\n",
       "<style scoped>\n",
       "    .dataframe tbody tr th:only-of-type {\n",
       "        vertical-align: middle;\n",
       "    }\n",
       "\n",
       "    .dataframe tbody tr th {\n",
       "        vertical-align: top;\n",
       "    }\n",
       "\n",
       "    .dataframe thead th {\n",
       "        text-align: right;\n",
       "    }\n",
       "</style>\n",
       "<table border=\"1\" class=\"dataframe\">\n",
       "  <thead>\n",
       "    <tr style=\"text-align: right;\">\n",
       "      <th></th>\n",
       "      <th>LocationID</th>\n",
       "      <th>Borough</th>\n",
       "      <th>Zone</th>\n",
       "      <th>service_zone</th>\n",
       "    </tr>\n",
       "  </thead>\n",
       "  <tbody>\n",
       "    <tr>\n",
       "      <th>0</th>\n",
       "      <td>1</td>\n",
       "      <td>EWR</td>\n",
       "      <td>Newark Airport</td>\n",
       "      <td>EWR</td>\n",
       "    </tr>\n",
       "    <tr>\n",
       "      <th>1</th>\n",
       "      <td>2</td>\n",
       "      <td>Queens</td>\n",
       "      <td>Jamaica Bay</td>\n",
       "      <td>Boro Zone</td>\n",
       "    </tr>\n",
       "    <tr>\n",
       "      <th>2</th>\n",
       "      <td>3</td>\n",
       "      <td>Bronx</td>\n",
       "      <td>Allerton/Pelham Gardens</td>\n",
       "      <td>Boro Zone</td>\n",
       "    </tr>\n",
       "    <tr>\n",
       "      <th>3</th>\n",
       "      <td>4</td>\n",
       "      <td>Manhattan</td>\n",
       "      <td>Alphabet City</td>\n",
       "      <td>Yellow Zone</td>\n",
       "    </tr>\n",
       "    <tr>\n",
       "      <th>4</th>\n",
       "      <td>5</td>\n",
       "      <td>Staten Island</td>\n",
       "      <td>Arden Heights</td>\n",
       "      <td>Boro Zone</td>\n",
       "    </tr>\n",
       "  </tbody>\n",
       "</table>\n",
       "</div>"
      ],
      "text/plain": [
       "   LocationID        Borough                     Zone service_zone\n",
       "0           1            EWR           Newark Airport          EWR\n",
       "1           2         Queens              Jamaica Bay    Boro Zone\n",
       "2           3          Bronx  Allerton/Pelham Gardens    Boro Zone\n",
       "3           4      Manhattan            Alphabet City  Yellow Zone\n",
       "4           5  Staten Island            Arden Heights    Boro Zone"
      ]
     },
     "execution_count": 11,
     "metadata": {},
     "output_type": "execute_result"
    }
   ],
   "source": [
    "# Schritt 4 – Prüfung der Ziel-Datei\n",
    "df_copied = pd.read_csv(processed_file)\n",
    "df_copied.head()"
   ]
  },
  {
   "cell_type": "code",
   "execution_count": null,
   "id": "1e1479d8",
   "metadata": {},
   "outputs": [],
   "source": [
    "# Wie funktioniert das in Airflow?\n",
    "# In Airflow wird dieser Kopiervorgang durch einen DAG orchestriert.\n",
    "# Der DAG importiert eine Hilfsfunktion (z. B. aus utils.py), die exakt das macht, was du hier manuell getan hast.\n",
    "\n",
    "# Danach kannst du in der Web UI den Status einsehen und die Logs analysieren."
   ]
  },
  {
   "cell_type": "code",
   "execution_count": null,
   "id": "59c9d76b",
   "metadata": {},
   "outputs": [],
   "source": [
    "## ✅ Lernziele von Case 1\n",
    "\n",
    "# Airflow DAGs manuell triggern (`schedule_interval=None`)\n",
    "# Eine Hilfsfunktion in `utils.py` verwenden\n",
    "# Logs einsehen (Web UI → DAG → Task → Logs)\n",
    "\n",
    "### 🔄 Nächste Schritte (für Case 2)\n",
    "\n",
    "# Sensor verwenden, um DAG automatisch starten zu lassen\n",
    "# Dateiänderung oder -erzeugung triggern DAG-Start"
   ]
  }
 ],
 "metadata": {
  "kernelspec": {
   "display_name": "Python 3",
   "language": "python",
   "name": "python3"
  },
  "language_info": {
   "codemirror_mode": {
    "name": "ipython",
    "version": 3
   },
   "file_extension": ".py",
   "mimetype": "text/x-python",
   "name": "python",
   "nbconvert_exporter": "python",
   "pygments_lexer": "ipython3",
   "version": "3.9.6"
  }
 },
 "nbformat": 4,
 "nbformat_minor": 5
}
