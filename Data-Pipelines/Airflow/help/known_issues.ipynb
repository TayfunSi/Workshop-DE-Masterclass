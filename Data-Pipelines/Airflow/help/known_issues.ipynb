{
 "cells": [
  {
   "cell_type": "markdown",
   "id": "cd4385bf",
   "metadata": {},
   "source": [
    "Scheduler Logs abrufen:\n",
    "\n",
    "docker-compose logs -f airflow-scheduler"
   ]
  },
  {
   "cell_type": "markdown",
   "id": "a6ed8e8b",
   "metadata": {},
   "source": [
    "PermissionError: [Errno 13] Permission denied: '/opt/airflow/logs/dag_id...\n",
    "    -> sudo chown -R 50000:50000 ~/Workshop-DE-Masterclass/Data-Pipelines/Airflow/logs"
   ]
  },
  {
   "cell_type": "code",
   "execution_count": null,
   "id": "00b6cc7f",
   "metadata": {
    "vscode": {
     "languageId": "plaintext"
    }
   },
   "outputs": [],
   "source": [
    "Permission denied: 'data/processed/zones_copied.csv\n",
    "    -> sudo chown -R 50000:50000 ./data/processed\n",
    "    -> sudo chmod -R u+rwX ./data/processed"
   ]
  },
  {
   "cell_type": "markdown",
   "id": "005387b0",
   "metadata": {},
   "source": []
  }
 ],
 "metadata": {
  "language_info": {
   "name": "python"
  }
 },
 "nbformat": 4,
 "nbformat_minor": 5
}
